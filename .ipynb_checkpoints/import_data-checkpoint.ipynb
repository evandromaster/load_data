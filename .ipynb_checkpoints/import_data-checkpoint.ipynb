{
 "cells": [
  {
   "cell_type": "code",
   "execution_count": 1,
   "metadata": {},
   "outputs": [],
   "source": [
    "# Imports\n",
    "import os, time\n",
    "import pandas as pd\n",
    "import glob"
   ]
  },
  {
   "cell_type": "code",
   "execution_count": 2,
   "metadata": {
    "scrolled": true
   },
   "outputs": [
    {
     "data": {
      "text/plain": [
       "['tbl_base_pdca_2020_01.xls',\n",
       " 'tbl_base_pdca_2020_02.xls',\n",
       " 'tbl_base_pdca_2020_03.xls',\n",
       " 'tbl_base_pdca_2020_04.xls',\n",
       " 'tbl_base_pdca_2020_05.xls',\n",
       " 'tbl_base_pdca_2020_06.xls',\n",
       " 'tbl_base_pdca_2020_07.xls',\n",
       " 'tbl_base_pdca_2020_08.xls',\n",
       " 'tbl_base_pdca_2020_09.xls']"
      ]
     },
     "execution_count": 2,
     "metadata": {},
     "output_type": "execute_result"
    }
   ],
   "source": [
    "# Change directory\n",
    "#os.chdir(r\"C:\\Users\\Geo\\Documents\\MEGAsync\\MySql\\10 - Tbl_dimensao\\pdca\\files\") office\n",
    "os.chdir(r\"I:\\MySql\\10 - Tbl_dimensao\\pdca\\files\")\n",
    "# Create a list with all the files\n",
    "path = os.getcwd()\n",
    "files = os.listdir(path)\n",
    "\n",
    "# Select only xlsx files\n",
    "files_xls = [f for f in files if f[-3:] == \"xls\"]\n",
    "\n",
    "files_xls"
   ]
  },
  {
   "cell_type": "code",
   "execution_count": 8,
   "metadata": {
    "scrolled": true
   },
   "outputs": [
    {
     "name": "stdout",
     "output_type": "stream",
     "text": [
      "Arquivo: armazem.db                     Tamanho: 46088192 Bytes\n",
      "Date created: 12/09/2020 16:26:38\n",
      "Arquivo: somefile.txt                   Tamanho: 0 Bytes\n",
      "Date created: 12/09/2020 17:02:53\n",
      "Arquivo: tbl_base_pdca_2020_01.xls      Tamanho: 8620032 Bytes\n",
      "Date created: 11/09/2020 14:14:50\n",
      "Arquivo: tbl_base_pdca_2020_02.xls      Tamanho: 8742400 Bytes\n",
      "Date created: 11/09/2020 14:24:52\n",
      "Arquivo: tbl_base_pdca_2020_03.xls      Tamanho: 8351870 Bytes\n",
      "Date created: 11/09/2020 15:44:14\n",
      "Arquivo: tbl_base_pdca_2020_04.xls      Tamanho: 7558634 Bytes\n",
      "Date created: 11/09/2020 16:07:27\n",
      "Arquivo: tbl_base_pdca_2020_05.xls      Tamanho: 8275756 Bytes\n",
      "Date created: 11/09/2020 16:13:57\n",
      "Arquivo: tbl_base_pdca_2020_06.xls      Tamanho: 7913302 Bytes\n",
      "Date created: 11/09/2020 16:43:04\n",
      "Arquivo: tbl_base_pdca_2020_07.xls      Tamanho: 8093120 Bytes\n",
      "Date created: 11/09/2020 16:56:07\n",
      "Arquivo: tbl_base_pdca_2020_08.xls      Tamanho: 7981031 Bytes\n",
      "Date created: 11/09/2020 16:58:14\n",
      "Arquivo: tbl_base_pdca_2020_09.xls      Tamanho: 3004954 Bytes\n",
      "Date created: 11/09/2020 17:02:29\n",
      "Arquivo: teste                          Tamanho: 0 Bytes\n",
      "Date created: 11/09/2020 21:16:38\n"
     ]
    }
   ],
   "source": [
    "#thePath = os.getcwd()\n",
    "#theFiles = list(os.listdir(thePath))\n",
    "\n",
    "theDict = dict()\n",
    "for something in files: #Calculate size for all files here. \n",
    "    theStats = os.stat(something)\n",
    "    theDict[something] = theStats\n",
    "    \n",
    "for item in theDict:\n",
    "    created = os.path.getmtime(item)\n",
    "    year,month,day,hour,minute,second=time.localtime(created)[:-3]\n",
    "    print(\"Arquivo: {:30s} Tamanho: {:d} Bytes\".format(item,theDict[item].st_size))\n",
    "    \n",
    "    \n",
    "    print(\"Date created: %02d/%02d/%d %02d:%02d:%02d\"%(day,month,year,hour,minute,second))\n",
    "    \n",
    "  \n"
   ]
  },
  {
   "cell_type": "code",
   "execution_count": null,
   "metadata": {},
   "outputs": [],
   "source": [
    "df_tbl_imported = pd.DataFrame(files_xls, columns = ['IMPORTED_FILES'])\n",
    "\n",
    "df_tbl_imported\n",
    "files_xls"
   ]
  },
  {
   "cell_type": "code",
   "execution_count": null,
   "metadata": {},
   "outputs": [],
   "source": [
    "#initilizing the DataFrame empyt\n",
    "df_files = pd.DataFrame()\n",
    "\n"
   ]
  },
  {
   "cell_type": "code",
   "execution_count": null,
   "metadata": {},
   "outputs": [],
   "source": [
    "for f in files_xls:\n",
    "    dba = pd.read_excel(f, sheet_name='tbl_ocorrencias', index_col = 0)\n",
    "    df_files = df_files.append(dba)\n",
    "#     df_files.columns = [c.replace(' ', '_') for c in df_files.columns]\n",
    "#     df_files.columns = [c.upper() for c in df_files.columns]\n",
    "#     col_names = df_files.columns\n",
    "df_files"
   ]
  },
  {
   "cell_type": "code",
   "execution_count": null,
   "metadata": {},
   "outputs": [],
   "source": [
    "result = r\"C:\\Users\\Geo\\Desktop\\join.xlsx\"\n",
    "with pd.ExcelWriter(result) as save:\n",
    "    df_files.to_excel(save, sheet_name='df_tbl_ocorrencias')"
   ]
  },
  {
   "cell_type": "code",
   "execution_count": null,
   "metadata": {},
   "outputs": [],
   "source": [
    "df_files.to_sql('tbl_ocorrencias', 'sqlite:///armazem.db', if_exists='replace', index=True)\n",
    "df_tbl_imported.to_sql('tbl_imported_files', 'sqlite:///armazem.db', if_exists='replace', index=False)"
   ]
  },
  {
   "cell_type": "code",
   "execution_count": null,
   "metadata": {},
   "outputs": [],
   "source": [
    "def get_files_names(only_not_imported=False):\n",
    "    if only_not_imported:\n",
    "            df_imported_files = pd.read_sql_table('tbl_imported_files', 'sqlite:///armazem.db')\n",
    "            files_names = [files_xls for files_xls in files_names if files_xls not in df_imported_files['0'].values ]"
   ]
  },
  {
   "cell_type": "code",
   "execution_count": null,
   "metadata": {
    "scrolled": true
   },
   "outputs": [],
   "source": [
    "import sqlite3\n",
    "import pandas as pd\n",
    "# Create your connection.\n",
    "cnx = sqlite3.connect('armazem.db')\n",
    "\n",
    "pd.read_sql_query(\"SELECT * FROM tbl_ocorrencias\\\n",
    "                       \", cnx)"
   ]
  },
  {
   "cell_type": "code",
   "execution_count": null,
   "metadata": {},
   "outputs": [],
   "source": [
    "df"
   ]
  }
 ],
 "metadata": {
  "kernelspec": {
   "display_name": "Python 3",
   "language": "python",
   "name": "python3"
  },
  "language_info": {
   "codemirror_mode": {
    "name": "ipython",
    "version": 3
   },
   "file_extension": ".py",
   "mimetype": "text/x-python",
   "name": "python",
   "nbconvert_exporter": "python",
   "pygments_lexer": "ipython3",
   "version": "3.7.6"
  }
 },
 "nbformat": 4,
 "nbformat_minor": 4
}
