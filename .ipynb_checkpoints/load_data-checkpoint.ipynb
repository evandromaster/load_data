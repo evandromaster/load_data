{
 "cells": [
  {
   "cell_type": "code",
   "execution_count": 1,
   "metadata": {},
   "outputs": [],
   "source": [
    "# Importar bibliotecas\n",
    "import os, time\n",
    "import pandas as pd\n",
    "import glob"
   ]
  },
  {
   "cell_type": "code",
   "execution_count": 2,
   "metadata": {
    "scrolled": true
   },
   "outputs": [
    {
     "data": {
      "text/plain": [
       "['tbl_base_pdca_2020_01.xls',\n",
       " 'tbl_base_pdca_2020_02.xls',\n",
       " 'tbl_base_pdca_2020_03.xls',\n",
       " 'tbl_base_pdca_2020_04.xls',\n",
       " 'tbl_base_pdca_2020_05.xls',\n",
       " 'tbl_base_pdca_2020_06.xls',\n",
       " 'tbl_base_pdca_2020_07.xls',\n",
       " 'tbl_base_pdca_2020_08.xls',\n",
       " 'tbl_base_pdca_2020_09.xls']"
      ]
     },
     "execution_count": 2,
     "metadata": {},
     "output_type": "execute_result"
    }
   ],
   "source": [
    "# Mudando o diretorio\n",
    "os.chdir(r\"C:\\Users\\Geo\\Documents\\MEGAsync\\MySql\\10 - Tbl_dimensao\\pdca\\files\") #office\n",
    "#os.chdir(r\"I:\\MySql\\10 - Tbl_dimensao\\pdca\\files\") #Home\n",
    "# Create a list with all the files\n",
    "path = os.getcwd()\n",
    "files = os.listdir(path)\n",
    "\n",
    "# Selecionando  apenas os arquivos xls\n",
    "files_xls = [f for f in files if f[-3:] == \"xls\"]\n",
    "\n",
    "files_xls"
   ]
  },
  {
   "cell_type": "code",
   "execution_count": null,
   "metadata": {
    "scrolled": true
   },
   "outputs": [],
   "source": [
    "# #thePath = os.getcwd()\n",
    "# #theFiles = list(os.listdir(thePath))\n",
    "\n",
    "# theDict = dict()\n",
    "# for something in files: #Calculate size for all files here. \n",
    "#     theStats = os.stat(something)\n",
    "#     theDict[something] = theStats\n",
    "    \n",
    "# for item in theDict:\n",
    "#     created = os.path.getmtime(item)\n",
    "#     year,month,day,hour,minute,second=time.localtime(created)[:-3]\n",
    "#     print(\"Arquivo: {:30s} Tamanho: {:d} Bytes\".format(item,theDict[item].st_size))\n",
    "    \n",
    "    \n",
    "#     print(\"Date created: %02d/%02d/%d %02d:%02d:%02d\"%(day,month,year,hour,minute,second))\n",
    "    \n",
    "  \n"
   ]
  },
  {
   "cell_type": "code",
   "execution_count": 3,
   "metadata": {},
   "outputs": [
    {
     "data": {
      "text/html": [
       "<div>\n",
       "<style scoped>\n",
       "    .dataframe tbody tr th:only-of-type {\n",
       "        vertical-align: middle;\n",
       "    }\n",
       "\n",
       "    .dataframe tbody tr th {\n",
       "        vertical-align: top;\n",
       "    }\n",
       "\n",
       "    .dataframe thead th {\n",
       "        text-align: right;\n",
       "    }\n",
       "</style>\n",
       "<table border=\"1\" class=\"dataframe\">\n",
       "  <thead>\n",
       "    <tr style=\"text-align: right;\">\n",
       "      <th></th>\n",
       "      <th>IMPORTED_FILES</th>\n",
       "    </tr>\n",
       "  </thead>\n",
       "  <tbody>\n",
       "    <tr>\n",
       "      <th>0</th>\n",
       "      <td>tbl_base_pdca_2020_01.xls</td>\n",
       "    </tr>\n",
       "    <tr>\n",
       "      <th>1</th>\n",
       "      <td>tbl_base_pdca_2020_02.xls</td>\n",
       "    </tr>\n",
       "    <tr>\n",
       "      <th>2</th>\n",
       "      <td>tbl_base_pdca_2020_03.xls</td>\n",
       "    </tr>\n",
       "    <tr>\n",
       "      <th>3</th>\n",
       "      <td>tbl_base_pdca_2020_04.xls</td>\n",
       "    </tr>\n",
       "    <tr>\n",
       "      <th>4</th>\n",
       "      <td>tbl_base_pdca_2020_05.xls</td>\n",
       "    </tr>\n",
       "    <tr>\n",
       "      <th>5</th>\n",
       "      <td>tbl_base_pdca_2020_06.xls</td>\n",
       "    </tr>\n",
       "    <tr>\n",
       "      <th>6</th>\n",
       "      <td>tbl_base_pdca_2020_07.xls</td>\n",
       "    </tr>\n",
       "    <tr>\n",
       "      <th>7</th>\n",
       "      <td>tbl_base_pdca_2020_08.xls</td>\n",
       "    </tr>\n",
       "    <tr>\n",
       "      <th>8</th>\n",
       "      <td>tbl_base_pdca_2020_09.xls</td>\n",
       "    </tr>\n",
       "  </tbody>\n",
       "</table>\n",
       "</div>"
      ],
      "text/plain": [
       "              IMPORTED_FILES\n",
       "0  tbl_base_pdca_2020_01.xls\n",
       "1  tbl_base_pdca_2020_02.xls\n",
       "2  tbl_base_pdca_2020_03.xls\n",
       "3  tbl_base_pdca_2020_04.xls\n",
       "4  tbl_base_pdca_2020_05.xls\n",
       "5  tbl_base_pdca_2020_06.xls\n",
       "6  tbl_base_pdca_2020_07.xls\n",
       "7  tbl_base_pdca_2020_08.xls\n",
       "8  tbl_base_pdca_2020_09.xls"
      ]
     },
     "execution_count": 3,
     "metadata": {},
     "output_type": "execute_result"
    }
   ],
   "source": [
    "df_tbl_imported = pd.DataFrame(files_xls, columns = ['IMPORTED_FILES'])\n",
    "\n",
    "df_tbl_imported\n"
   ]
  },
  {
   "cell_type": "code",
   "execution_count": 6,
   "metadata": {},
   "outputs": [
    {
     "name": "stdout",
     "output_type": "stream",
     "text": [
      "WARNING *** OLE2 inconsistency: SSCS size is 0 but SSAT size is non-zero\n",
      "WARNING *** OLE2 inconsistency: SSCS size is 0 but SSAT size is non-zero\n",
      "WARNING *** OLE2 inconsistency: SSCS size is 0 but SSAT size is non-zero\n",
      "WARNING *** OLE2 inconsistency: SSCS size is 0 but SSAT size is non-zero\n",
      "WARNING *** OLE2 inconsistency: SSCS size is 0 but SSAT size is non-zero\n",
      "WARNING *** OLE2 inconsistency: SSCS size is 0 but SSAT size is non-zero\n",
      "WARNING *** OLE2 inconsistency: SSCS size is 0 but SSAT size is non-zero\n",
      "WARNING *** file size (10597214) not 512 + multiple of sector size (512)\n",
      "WARNING *** OLE2 inconsistency: SSCS size is 0 but SSAT size is non-zero\n",
      "WARNING *** file size (10597214) not 512 + multiple of sector size (512)\n",
      "WARNING *** OLE2 inconsistency: SSCS size is 0 but SSAT size is non-zero\n",
      "WARNING *** file size (10597214) not 512 + multiple of sector size (512)\n",
      "WARNING *** OLE2 inconsistency: SSCS size is 0 but SSAT size is non-zero\n",
      "WARNING *** file size (10597214) not 512 + multiple of sector size (512)\n",
      "WARNING *** OLE2 inconsistency: SSCS size is 0 but SSAT size is non-zero\n",
      "WARNING *** file size (10597214) not 512 + multiple of sector size (512)\n",
      "WARNING *** OLE2 inconsistency: SSCS size is 0 but SSAT size is non-zero\n",
      "WARNING *** file size (10597214) not 512 + multiple of sector size (512)\n",
      "WARNING *** OLE2 inconsistency: SSCS size is 0 but SSAT size is non-zero\n",
      "WARNING *** file size (10597214) not 512 + multiple of sector size (512)\n",
      "WARNING *** OLE2 inconsistency: SSCS size is 0 but SSAT size is non-zero\n",
      "WARNING *** file size (9995841) not 512 + multiple of sector size (512)\n",
      "WARNING *** OLE2 inconsistency: SSCS size is 0 but SSAT size is non-zero\n",
      "WARNING *** file size (9995841) not 512 + multiple of sector size (512)\n",
      "WARNING *** OLE2 inconsistency: SSCS size is 0 but SSAT size is non-zero\n",
      "WARNING *** file size (9995841) not 512 + multiple of sector size (512)\n",
      "WARNING *** OLE2 inconsistency: SSCS size is 0 but SSAT size is non-zero\n",
      "WARNING *** file size (9995841) not 512 + multiple of sector size (512)\n",
      "WARNING *** OLE2 inconsistency: SSCS size is 0 but SSAT size is non-zero\n",
      "WARNING *** file size (9995841) not 512 + multiple of sector size (512)\n",
      "WARNING *** OLE2 inconsistency: SSCS size is 0 but SSAT size is non-zero\n",
      "WARNING *** file size (9995841) not 512 + multiple of sector size (512)\n",
      "WARNING *** OLE2 inconsistency: SSCS size is 0 but SSAT size is non-zero\n",
      "WARNING *** file size (9995841) not 512 + multiple of sector size (512)\n",
      "WARNING *** OLE2 inconsistency: SSCS size is 0 but SSAT size is non-zero\n",
      "WARNING *** file size (8596052) not 512 + multiple of sector size (512)\n",
      "WARNING *** OLE2 inconsistency: SSCS size is 0 but SSAT size is non-zero\n",
      "WARNING *** file size (8596052) not 512 + multiple of sector size (512)\n",
      "WARNING *** OLE2 inconsistency: SSCS size is 0 but SSAT size is non-zero\n",
      "WARNING *** file size (8596052) not 512 + multiple of sector size (512)\n",
      "WARNING *** OLE2 inconsistency: SSCS size is 0 but SSAT size is non-zero\n",
      "WARNING *** file size (8596052) not 512 + multiple of sector size (512)\n",
      "WARNING *** OLE2 inconsistency: SSCS size is 0 but SSAT size is non-zero\n",
      "WARNING *** file size (8596052) not 512 + multiple of sector size (512)\n",
      "WARNING *** OLE2 inconsistency: SSCS size is 0 but SSAT size is non-zero\n",
      "WARNING *** file size (8596052) not 512 + multiple of sector size (512)\n",
      "WARNING *** OLE2 inconsistency: SSCS size is 0 but SSAT size is non-zero\n",
      "WARNING *** file size (8596052) not 512 + multiple of sector size (512)\n",
      "WARNING *** OLE2 inconsistency: SSCS size is 0 but SSAT size is non-zero\n",
      "WARNING *** file size (9769808) not 512 + multiple of sector size (512)\n",
      "WARNING *** OLE2 inconsistency: SSCS size is 0 but SSAT size is non-zero\n",
      "WARNING *** file size (9769808) not 512 + multiple of sector size (512)\n",
      "WARNING *** OLE2 inconsistency: SSCS size is 0 but SSAT size is non-zero\n",
      "WARNING *** file size (9769808) not 512 + multiple of sector size (512)\n",
      "WARNING *** OLE2 inconsistency: SSCS size is 0 but SSAT size is non-zero\n",
      "WARNING *** file size (9769808) not 512 + multiple of sector size (512)\n",
      "WARNING *** OLE2 inconsistency: SSCS size is 0 but SSAT size is non-zero\n",
      "WARNING *** file size (9769808) not 512 + multiple of sector size (512)\n",
      "WARNING *** OLE2 inconsistency: SSCS size is 0 but SSAT size is non-zero\n",
      "WARNING *** file size (9769808) not 512 + multiple of sector size (512)\n",
      "WARNING *** OLE2 inconsistency: SSCS size is 0 but SSAT size is non-zero\n",
      "WARNING *** file size (9769808) not 512 + multiple of sector size (512)\n",
      "WARNING *** OLE2 inconsistency: SSCS size is 0 but SSAT size is non-zero\n",
      "WARNING *** file size (9423183) not 512 + multiple of sector size (512)\n",
      "WARNING *** OLE2 inconsistency: SSCS size is 0 but SSAT size is non-zero\n",
      "WARNING *** file size (9423183) not 512 + multiple of sector size (512)\n",
      "WARNING *** OLE2 inconsistency: SSCS size is 0 but SSAT size is non-zero\n",
      "WARNING *** file size (9423183) not 512 + multiple of sector size (512)\n",
      "WARNING *** OLE2 inconsistency: SSCS size is 0 but SSAT size is non-zero\n",
      "WARNING *** file size (9423183) not 512 + multiple of sector size (512)\n",
      "WARNING *** OLE2 inconsistency: SSCS size is 0 but SSAT size is non-zero\n",
      "WARNING *** file size (9423183) not 512 + multiple of sector size (512)\n",
      "WARNING *** OLE2 inconsistency: SSCS size is 0 but SSAT size is non-zero\n",
      "WARNING *** file size (9423183) not 512 + multiple of sector size (512)\n",
      "WARNING *** OLE2 inconsistency: SSCS size is 0 but SSAT size is non-zero\n",
      "WARNING *** file size (9423183) not 512 + multiple of sector size (512)\n",
      "WARNING *** OLE2 inconsistency: SSCS size is 0 but SSAT size is non-zero\n",
      "WARNING *** file size (9739285) not 512 + multiple of sector size (512)\n",
      "WARNING *** OLE2 inconsistency: SSCS size is 0 but SSAT size is non-zero\n",
      "WARNING *** file size (9739285) not 512 + multiple of sector size (512)\n",
      "WARNING *** OLE2 inconsistency: SSCS size is 0 but SSAT size is non-zero\n",
      "WARNING *** file size (9739285) not 512 + multiple of sector size (512)\n",
      "WARNING *** OLE2 inconsistency: SSCS size is 0 but SSAT size is non-zero\n",
      "WARNING *** file size (9739285) not 512 + multiple of sector size (512)\n",
      "WARNING *** OLE2 inconsistency: SSCS size is 0 but SSAT size is non-zero\n",
      "WARNING *** file size (9739285) not 512 + multiple of sector size (512)\n",
      "WARNING *** OLE2 inconsistency: SSCS size is 0 but SSAT size is non-zero\n",
      "WARNING *** file size (9739285) not 512 + multiple of sector size (512)\n",
      "WARNING *** OLE2 inconsistency: SSCS size is 0 but SSAT size is non-zero\n",
      "WARNING *** file size (9739285) not 512 + multiple of sector size (512)\n",
      "WARNING *** OLE2 inconsistency: SSCS size is 0 but SSAT size is non-zero\n",
      "WARNING *** file size (9534378) not 512 + multiple of sector size (512)\n",
      "WARNING *** OLE2 inconsistency: SSCS size is 0 but SSAT size is non-zero\n",
      "WARNING *** file size (9534378) not 512 + multiple of sector size (512)\n",
      "WARNING *** OLE2 inconsistency: SSCS size is 0 but SSAT size is non-zero\n",
      "WARNING *** file size (9534378) not 512 + multiple of sector size (512)\n",
      "WARNING *** OLE2 inconsistency: SSCS size is 0 but SSAT size is non-zero\n",
      "WARNING *** file size (9534378) not 512 + multiple of sector size (512)\n",
      "WARNING *** OLE2 inconsistency: SSCS size is 0 but SSAT size is non-zero\n",
      "WARNING *** file size (9534378) not 512 + multiple of sector size (512)\n",
      "WARNING *** OLE2 inconsistency: SSCS size is 0 but SSAT size is non-zero\n",
      "WARNING *** file size (9534378) not 512 + multiple of sector size (512)\n",
      "WARNING *** OLE2 inconsistency: SSCS size is 0 but SSAT size is non-zero\n",
      "WARNING *** file size (9534378) not 512 + multiple of sector size (512)\n",
      "WARNING *** OLE2 inconsistency: SSCS size is 0 but SSAT size is non-zero\n",
      "WARNING *** file size (7097851) not 512 + multiple of sector size (512)\n",
      "WARNING *** OLE2 inconsistency: SSCS size is 0 but SSAT size is non-zero\n",
      "WARNING *** file size (7097851) not 512 + multiple of sector size (512)\n",
      "WARNING *** OLE2 inconsistency: SSCS size is 0 but SSAT size is non-zero\n",
      "WARNING *** file size (7097851) not 512 + multiple of sector size (512)\n",
      "WARNING *** OLE2 inconsistency: SSCS size is 0 but SSAT size is non-zero\n",
      "WARNING *** file size (7097851) not 512 + multiple of sector size (512)\n",
      "WARNING *** OLE2 inconsistency: SSCS size is 0 but SSAT size is non-zero\n"
     ]
    },
    {
     "name": "stdout",
     "output_type": "stream",
     "text": [
      "WARNING *** file size (7097851) not 512 + multiple of sector size (512)\n",
      "WARNING *** OLE2 inconsistency: SSCS size is 0 but SSAT size is non-zero\n",
      "WARNING *** file size (7097851) not 512 + multiple of sector size (512)\n",
      "WARNING *** OLE2 inconsistency: SSCS size is 0 but SSAT size is non-zero\n",
      "WARNING *** file size (7097851) not 512 + multiple of sector size (512)\n",
      "WARNING *** OLE2 inconsistency: SSCS size is 0 but SSAT size is non-zero\n"
     ]
    }
   ],
   "source": [
    "#inicializando o DataFrame vazio\n",
    "\n",
    "df_ocorrencias = pd.DataFrame()\n",
    "df_armas_fgo = pd.DataFrame()\n",
    "df_envolvidos = pd.DataFrame()\n",
    "df_veiculos = pd.DataFrame()\n",
    "\n",
    "df_materiais = pd.DataFrame()\n",
    "df_infracoes = pd.DataFrame()\n",
    "df_integrantes = pd.DataFrame()\n",
    "\n",
    "#leitura dos arquivos\n",
    "\n",
    "for f in files_xls:\n",
    "    dba_ocor = pd.read_excel(f, sheet_name='tbl_ocorrencias', index_col = None)\n",
    "    df_ocorrencias = df_ocorrencias.append(dba_ocor)\n",
    "    \n",
    "    dba_fgo = pd.read_excel(f, sheet_name='tbl_armas_fgo', index_col = None)\n",
    "    df_armas_fgo = df_armas_fgo.append(dba_fgo)\n",
    "    \n",
    "    dba_env = pd.read_excel(f, sheet_name='tbl_envolvidos', index_col = None)\n",
    "    df_envolvidos = df_armas_fgo.append(dba_env)\n",
    "    \n",
    "    dba_veic = pd.read_excel(f, sheet_name='tbl_veiculos', index_col = None)\n",
    "    df_veiculos = df_veiculos.append(dba_veic)\n",
    "    \n",
    "    dba_mat = pd.read_excel(f, sheet_name='tbl_materiais', index_col = None)\n",
    "    df_materiais = df_materiais.append(dba_mat)\n",
    "    \n",
    "    dba_inf = pd.read_excel(f, sheet_name='tbl_infracoes', index_col = None)\n",
    "    df_infracoes = df_infracoes.append(dba_inf)\n",
    "    \n",
    "    dba_int = pd.read_excel(f, sheet_name='tbl_integrantes', index_col = None)\n",
    "    df_integrantes = df_integrantes.append(dba_int)\n",
    "    \n",
    " \n",
    "    \n",
    "    \n",
    "    \n",
    "def columns():\n",
    "    for df in [df_ocorrencias,df_armas_fgo,df_envolvidos,df_veiculos,df_materiais,df_infracoes,df_integrantes]:\n",
    "        df.columns = df.columns.str.replace(' ', '_')\n",
    "        df.columns = df.columns.str.upper()\n",
    "        df.set_index(\"NÚMERO_REDS\", inplace = True)\n",
    "columns()  \n",
    "\n",
    " "
   ]
  },
  {
   "cell_type": "code",
   "execution_count": 10,
   "metadata": {},
   "outputs": [],
   "source": [
    "#Substitui os valores 9999 pelo ano  da 'DATA_HORA_INCLUSÃO_REDS'\n",
    "ano = df_ocorrencias['DATA_HORA_INCLUSÃO_REDS'].astype(str).str[:4]\n",
    "#df_files['DATA_COMUNICAÇÃO_FATO'] = df_files['DATA_COMUNICAÇÃO_FATO'].astype(str).str.replace('9999',ano)\n",
    "\n",
    "df_ocorrencias['DATA_COMUNICAÇÃO_FATO'] = df_ocorrencias['DATA_COMUNICAÇÃO_FATO'].astype(str).str.replace('9999', '1930')\n",
    "df_ocorrencias['DATA_FATO'] = df_ocorrencias['DATA_FATO'].astype(str).str.replace('9999', '1930')\n"
   ]
  },
  {
   "cell_type": "code",
   "execution_count": 11,
   "metadata": {},
   "outputs": [],
   "source": [
    "#envia as informações processadas pra  SGBD SqLite\n",
    "df_ocorrencias.to_sql('tbl_ocorrencias', 'sqlite:///armazem.db', if_exists='replace', index=True)\n",
    "df_tbl_imported.to_sql('tbl_imported_files', 'sqlite:///armazem.db', if_exists='replace', index=False)\n",
    "\n",
    "df_armas_fgo.to_sql('tbl_armas_fgo', 'sqlite:///armazem.db', if_exists='replace', index=True)\n",
    "df_envolvidos.to_sql('tbl_envolvidos', 'sqlite:///armazem.db', if_exists='replace', index=True)\n",
    "df_veiculos.to_sql('tbl_veiculos', 'sqlite:///armazem.db', if_exists='replace', index=True)\n",
    "df_materiais.to_sql('tbl_materiais', 'sqlite:///armazem.db', if_exists='replace', index=True)\n",
    "\n",
    "df_infracoes.to_sql('tbl_infracoes', 'sqlite:///armazem.db', if_exists='replace', index=True)\n",
    "df_integrantes.to_sql('tbl_integrantes', 'sqlite:///armazem.db', if_exists='replace', index=True)\n",
    "\n"
   ]
  },
  {
   "cell_type": "code",
   "execution_count": null,
   "metadata": {},
   "outputs": [],
   "source": [
    "# #initilizing the DataFrame empyt\n",
    "# df_files = pd.DataFrame()\n",
    "\n",
    "\n",
    "# for f in files_xls:\n",
    "#     dba_ocor = pd.read_excel(f, sheet_name='tbl_ocorrencias', index_col = None)\n",
    "#     dba_fgo = pd.read_excel(f, sheet_name='tbl_armas_fgo', index_col = None)\n",
    "#     df_files = df_files.append(dba_ocor)\n",
    "# #   df_files.columns = [c.replace(' ', '_') for c in df_files.columns]\n",
    "# #   df_files.columns = [c.upper() for c in df_files.columns]\n",
    "# #   col_names = df_files.columns\n",
    "# df_files.columns = df_files.columns.str.replace(' ', '_')\n",
    "# df_files.columns = df_files.columns.str.upper()\n",
    "# #df_files.set_index(\"NÚMERO_REDS\", inplace = True)\n",
    "\n",
    "# df_files\n",
    "\n"
   ]
  },
  {
   "cell_type": "code",
   "execution_count": null,
   "metadata": {},
   "outputs": [],
   "source": [
    "\n"
   ]
  },
  {
   "cell_type": "code",
   "execution_count": null,
   "metadata": {},
   "outputs": [],
   "source": [
    "# df_files['DATA_COMUNICAÇÃO_FATO']\n",
    "\n",
    "# df_files['DATA_COMUNICAÇÃO_FATO'] = pd.to_datetime(df_files['DATA_COMUNICAÇÃO_FATO'], format='%Y/%m/%d', errors='coerce')\n",
    "\n",
    "# #df_files['DATA_COMUNICAÇÃO_FATO'] = df_files['DATA_COMUNICAÇÃO_FATO'].astype(str)"
   ]
  },
  {
   "cell_type": "code",
   "execution_count": null,
   "metadata": {},
   "outputs": [],
   "source": [
    "# save = r\"C:\\Users\\Geo\\Desktop\\tbl_.xlsx\"\n",
    "# df_files.to_excel(save, sheet_name='validados', index = False)"
   ]
  },
  {
   "cell_type": "code",
   "execution_count": null,
   "metadata": {},
   "outputs": [],
   "source": [
    "df_files = df_files[\n",
    "    ( df_files['DATA_COMUNICAÇÃO_FATO'].str.contains(\"9999\", case = False,  na = False, regex = True) )\n",
    "    \n",
    "]#.iloc[:,20:]\n",
    "\n",
    "                    #df_files['column name'] = df['column name'].replace(['old value'],'new value')\n",
    "    \n",
    "    "
   ]
  },
  {
   "cell_type": "code",
   "execution_count": null,
   "metadata": {},
   "outputs": [],
   "source": [
    "df = df_files[\n",
    "    ( df_files['DATA_COMUNICAÇÃO_FATO'].str.contains(\"999\", case = False,  na = False, regex = True) )\n",
    "    \n",
    "]#.iloc[:,20:]\n",
    "df['DATA_COMUNICAÇÃO_FATO'].dtype"
   ]
  },
  {
   "cell_type": "code",
   "execution_count": null,
   "metadata": {},
   "outputs": [],
   "source": [
    "df = df_files.copy()"
   ]
  },
  {
   "cell_type": "code",
   "execution_count": null,
   "metadata": {
    "scrolled": true
   },
   "outputs": [],
   "source": [
    "# df[\n",
    "#     df['DATA_COMUNICAÇÃO_FATO'].dt.year != 2020\n",
    "# ]['DATA_COMUNICAÇÃO_FATO']\n",
    "# df['DATA_COMUNICAÇÃO_FATO'] = pd.to_datetime(df['DATA_COMUNICAÇÃO_FATO'], errors='coerce')\n",
    "# df_files[\n",
    "#     (df_files['DATA_COMUNICAÇÃO_FATO'].dt.year != 2020)\n",
    "#     &\n",
    "#     (df_files['DATA_COMUNICAÇÃO_FATO'].dt.year != 2019)\n",
    "#     &\n",
    "#     (df_files['DATA_COMUNICAÇÃO_FATO'].dt.year != 2018)\n",
    "# ]['DATA_COMUNICAÇÃO_FATO']\n",
    "\n",
    "from datetime import datetime\n",
    "def conv(d):\n",
    "#     try:\n",
    "    d_conv = datetime.strftime(d, '%Y-%m-%d %H:%M:%S')\n",
    "#     except:\n",
    "#         datetime.\n",
    "#         return [d.month, d.day]\n",
    "    return d_conv\n",
    "#     return datetime.strftime(d, '%Y-%m-%d %H:%M:%S')\n",
    "\n",
    "df_files[\n",
    "    df_files['DATA_COMUNICAÇÃO_FATO'].apply(conv).str.contains('9999')\n",
    "        ]['DATA_COMUNICAÇÃO_FATO']\n",
    "# df_files['DATA_COMUNICAÇÃO_FATO'].apply(conv).str.contains('2020-01-30')\n",
    "\n",
    "# df_files['DATA_COMUNICAÇÃO_FATO']\n"
   ]
  },
  {
   "cell_type": "code",
   "execution_count": null,
   "metadata": {},
   "outputs": [],
   "source": [
    "df_files[\n",
    "    df_files['DATA_COMUNICAÇÃO_FATO'].apply(conv).str.contains('9999')\n",
    "        ]['DATA_COMUNICAÇÃO_FATO']\n",
    "#Left = df_files['DATA_COMUNICAÇÃO_FATO'].str[:4] \n",
    "  \n",
    "#print(Left)"
   ]
  },
  {
   "cell_type": "code",
   "execution_count": null,
   "metadata": {},
   "outputs": [],
   "source": [
    "#Substitui os valores 9999 pelo ano  da 'DATA_HORA_INCLUSÃO_REDS'\n",
    "df_files[df_files['DATA_COMUNICAÇÃO_FATO'].astype(str).str[:4] == '9999']\n",
    "ano = df_files['DATA_HORA_INCLUSÃO_REDS'].astype(str).str[:4]\n",
    "df_files['DATA_COMUNICAÇÃO_FATO'] = df_files['DATA_COMUNICAÇÃO_FATO'].astype(str).str.replace('9999', ano)\n",
    "\n",
    "\n",
    "#df_files['DATA_FATO'] = df_files['DATA_FATO'].astype(str).str.replace('9999', df_files['DATA_HORA_INCLUSÃO_REDS'].astype(str).str[:4])\n"
   ]
  },
  {
   "cell_type": "code",
   "execution_count": null,
   "metadata": {},
   "outputs": [],
   "source": [
    "df_files[df_files['DATA_COMUNICAÇÃO_FATO'].str[:4] == '9999']['DATA_COMUNICAÇÃO_FATO']"
   ]
  },
  {
   "cell_type": "code",
   "execution_count": null,
   "metadata": {},
   "outputs": [],
   "source": [
    "# result = r\"C:\\Users\\Geo\\Desktop\\join.xlsx\"\n",
    "# with pd.ExcelWriter(result) as save:\n",
    "#     df_files.to_excel(save, sheet_name='df_tbl_ocorrencias')"
   ]
  },
  {
   "cell_type": "code",
   "execution_count": null,
   "metadata": {},
   "outputs": [],
   "source": []
  },
  {
   "cell_type": "code",
   "execution_count": null,
   "metadata": {
    "scrolled": true
   },
   "outputs": [],
   "source": [
    "import sqlite3\n",
    "import pandas as pd\n",
    "# Create your connection.\n",
    "cnx = sqlite3.connect('armazem.db')\n",
    "\n",
    "pd.read_sql_query(\"SELECT * FROM tbl_ocorrencias\\\n",
    "                   WHERE CÓDIGO_SUBCLASSE_NAT_PRINCIPAL = 'C01157'\\\n",
    "                   AND DATA_FATO > '2020-09-01'\\\n",
    "                    \", cnx)"
   ]
  },
  {
   "cell_type": "code",
   "execution_count": null,
   "metadata": {},
   "outputs": [],
   "source": [
    "pd.read_sql_query(\"SELECT count(*) FROM tbl_ocorrencias\\\n",
    "                   WHERE CÓDIGO_SUBCLASSE_NAT_PRINCIPAL = 'C01157'\\\n",
    "                   AND DATA_FATO > '2020-09-01'\\\n",
    "                    \", cnx)"
   ]
  }
 ],
 "metadata": {
  "kernelspec": {
   "display_name": "Python 3",
   "language": "python",
   "name": "python3"
  },
  "language_info": {
   "codemirror_mode": {
    "name": "ipython",
    "version": 3
   },
   "file_extension": ".py",
   "mimetype": "text/x-python",
   "name": "python",
   "nbconvert_exporter": "python",
   "pygments_lexer": "ipython3",
   "version": "3.7.7"
  }
 },
 "nbformat": 4,
 "nbformat_minor": 4
}
