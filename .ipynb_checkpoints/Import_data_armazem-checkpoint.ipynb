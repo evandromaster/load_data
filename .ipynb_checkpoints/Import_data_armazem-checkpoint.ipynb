{
 "cells": [
  {
   "cell_type": "code",
   "execution_count": 3,
   "metadata": {},
   "outputs": [],
   "source": [
    "# Importar bibliotecas\n",
    "import os, time\n",
    "import pandas as pd\n",
    "import glob"
   ]
  },
  {
   "cell_type": "code",
   "execution_count": null,
   "metadata": {
    "scrolled": true
   },
   "outputs": [],
   "source": [
    "# Mudando o diretorio\n",
    "#os.chdir(r\"C:\\Users\\Geo\\Documents\\MEGAsync\\MySql\\10 - Tbl_dimensao\\pdca\\files\") #office\n",
    "os.chdir(r\"I:\\MySql\\10 - Tbl_dimensao\\pdca\\files\") #Home\n",
    "# Create a list with all the files\n",
    "path = os.getcwd()\n",
    "files = os.listdir(path)\n",
    "\n",
    "# Selecionando  apenas os arquivos xls\n",
    "files_xls = [f for f in files if f[-3:] == \"xls\"]\n",
    "\n",
    "files_xls"
   ]
  },
  {
   "cell_type": "code",
   "execution_count": null,
   "metadata": {},
   "outputs": [],
   "source": [
    "df_tbl_imported = pd.DataFrame(files_xls, columns = ['IMPORTED_FILES'])\n",
    "\n",
    "df_tbl_imported\n"
   ]
  },
  {
   "cell_type": "code",
   "execution_count": null,
   "metadata": {},
   "outputs": [],
   "source": [
    "#inicializando o DataFrame vazio\n",
    "\n",
    "df_ocorrencias = pd.DataFrame()\n",
    "df_armas_fgo = pd.DataFrame()\n",
    "df_envolvidos = pd.DataFrame()\n",
    "df_veiculos = pd.DataFrame()\n",
    "\n",
    "df_materiais = pd.DataFrame()\n",
    "df_infracoes = pd.DataFrame()\n",
    "df_integrantes = pd.DataFrame()\n",
    "\n",
    "#leitura dos arquivos\n",
    "\n",
    "for f in files_xls:\n",
    "    dba_ocor = pd.read_excel(f, sheet_name='tbl_ocorrencias', index_col = None,encoding='utf-8')\n",
    "    df_ocorrencias = df_ocorrencias.append(dba_ocor)\n",
    "    \n",
    "    dba_fgo = pd.read_excel(f, sheet_name='tbl_armas_fgo', index_col = None)\n",
    "    df_armas_fgo = df_armas_fgo.append(dba_fgo)\n",
    "    \n",
    "    dba_env = pd.read_excel(f, sheet_name='tbl_envolvidos', index_col = None)\n",
    "    df_envolvidos = df_armas_fgo.append(dba_env)\n",
    "    \n",
    "    dba_veic = pd.read_excel(f, sheet_name='tbl_veiculos', index_col = None)\n",
    "    df_veiculos = df_veiculos.append(dba_veic)\n",
    "    \n",
    "    dba_mat = pd.read_excel(f, sheet_name='tbl_materiais', index_col = None)\n",
    "    df_materiais = df_materiais.append(dba_mat)\n",
    "    \n",
    "    dba_inf = pd.read_excel(f, sheet_name='tbl_infracoes', index_col = None)\n",
    "    df_infracoes = df_infracoes.append(dba_inf)\n",
    "    \n",
    "    dba_int = pd.read_excel(f, sheet_name='tbl_integrantes', index_col = None)\n",
    "    df_integrantes = df_integrantes.append(dba_int)\n",
    "    \n",
    " \n",
    "    \n",
    "    \n",
    "    \n",
    "def columns():\n",
    "    for df in [df_ocorrencias,df_armas_fgo,df_envolvidos,df_veiculos,df_materiais,df_infracoes,df_integrantes]:\n",
    "        df.columns = df.columns.str.normalize('NFKD').str.encode('ascii', errors='ignore').str.decode('utf-8') #remove acento dos cabeçalhos\n",
    "        df.columns = df.columns.str.replace(' ', '_')\n",
    "        df.columns = df.columns.str.upper()\n",
    "        df.set_index(\"NUMERO_REDS\", inplace = True)\n",
    "        \n",
    "columns()  \n",
    "\n",
    " "
   ]
  },
  {
   "cell_type": "code",
   "execution_count": null,
   "metadata": {},
   "outputs": [],
   "source": [
    "#Substitui os valores 9999 pelo ano  da 'DATA_HORA_INCLUSÃO_REDS'\n",
    "ano = df_ocorrencias['DATA_HORA_INCLUSAO_REDS'].astype(str).str[:4]\n",
    "#df_files['DATA_COMUNICAÇÃO_FATO'] = df_files['DATA_COMUNICAÇÃO_FATO'].astype(str).str.replace('9999',ano)\n",
    "\n",
    "df_ocorrencias['DATA_COMUNICACAO_FATO'] = df_ocorrencias['DATA_COMUNICACAO_FATO'].astype(str).str.replace('9999', '1930')\n",
    "df_ocorrencias['DATA_FATO'] = df_ocorrencias['DATA_FATO'].astype(str).str.replace('9999', '1930')\n"
   ]
  },
  {
   "cell_type": "code",
   "execution_count": null,
   "metadata": {},
   "outputs": [],
   "source": [
    "#envia as informações processadas pra  SGBD SqLite\n",
    "df_ocorrencias.to_sql('tbl_ocorrencias', 'sqlite:///armazem.db', if_exists='replace', index=True)\n",
    "df_tbl_imported.to_sql('tbl_imported_files', 'sqlite:///armazem.db', if_exists='replace', index=False)\n",
    "\n",
    "df_armas_fgo.to_sql('tbl_armas_fgo', 'sqlite:///armazem.db', if_exists='replace', index=True)\n",
    "df_envolvidos.to_sql('tbl_envolvidos', 'sqlite:///armazem.db', if_exists='replace', index=True)\n",
    "df_veiculos.to_sql('tbl_veiculos', 'sqlite:///armazem.db', if_exists='replace', index=True)\n",
    "df_materiais.to_sql('tbl_materiais', 'sqlite:///armazem.db', if_exists='replace', index=True)\n",
    "\n",
    "df_infracoes.to_sql('tbl_infracoes', 'sqlite:///armazem.db', if_exists='replace', index=True)\n",
    "df_integrantes.to_sql('tbl_integrantes', 'sqlite:///armazem.db', if_exists='replace', index=True)\n",
    "\n"
   ]
  },
  {
   "cell_type": "code",
   "execution_count": null,
   "metadata": {},
   "outputs": [],
   "source": [
    "# save = r\"C:\\Users\\Geo\\Desktop\\tbl_.xlsx\"\n",
    "# df_files.to_excel(save, sheet_name='validados', index = False)"
   ]
  },
  {
   "cell_type": "code",
   "execution_count": null,
   "metadata": {
    "scrolled": true
   },
   "outputs": [],
   "source": [
    "import sqlite3\n",
    "import pandas as pd\n",
    "# Create your connection.\n",
    "cnx = sqlite3.connect('armazem.db')\n",
    "\n",
    "pd.read_sql_query(\"SELECT * FROM tbl_ocorrencias\\\n",
    "                   WHERE CÓDIGO_SUBCLASSE_NAT_PRINCIPAL = 'C01157'\\\n",
    "                   AND DATA_FATO > '2020-09-01'\\\n",
    "                    \", cnx)"
   ]
  },
  {
   "cell_type": "code",
   "execution_count": null,
   "metadata": {},
   "outputs": [],
   "source": [
    "pd.read_sql_query(\"SELECT count(*) FROM tbl_ocorrencias\\\n",
    "                   WHERE CÓDIGO_SUBCLASSE_NAT_PRINCIPAL = 'C01157'\\\n",
    "                   AND DATA_FATO > '2020-09-01'\\\n",
    "                    \", cnx)"
   ]
  }
 ],
 "metadata": {
  "kernelspec": {
   "display_name": "Python 3",
   "language": "python",
   "name": "python3"
  }
 },
 "nbformat": 4,
 "nbformat_minor": 4
}
