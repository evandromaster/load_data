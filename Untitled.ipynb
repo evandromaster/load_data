{
 "cells": [
  {
   "cell_type": "code",
   "execution_count": 3,
   "metadata": {
    "scrolled": true
   },
   "outputs": [
    {
     "name": "stdout",
     "output_type": "stream",
     "text": [
      "['C:\\\\Users\\\\Geo\\\\Jupyter\\\\load_data\\\\files\\\\06.xls', 'C:\\\\Users\\\\Geo\\\\Jupyter\\\\load_data\\\\files\\\\07.xls', 'C:\\\\Users\\\\Geo\\\\Jupyter\\\\load_data\\\\files\\\\08.xls', 'C:\\\\Users\\\\Geo\\\\Jupyter\\\\load_data\\\\files\\\\3d-jan-2020.xls']\n",
      "WARNING *** OLE2 inconsistency: SSCS size is 0 but SSAT size is non-zero\n"
     ]
    },
    {
     "ename": "TypeError",
     "evalue": "first argument must be an iterable of pandas objects, you passed an object of type \"DataFrame\"",
     "output_type": "error",
     "traceback": [
      "\u001b[1;31m---------------------------------------------------------------------------\u001b[0m",
      "\u001b[1;31mTypeError\u001b[0m                                 Traceback (most recent call last)",
      "\u001b[1;32m<ipython-input-3-b45e2da7dd12>\u001b[0m in \u001b[0;36m<module>\u001b[1;34m\u001b[0m\n\u001b[0;32m     30\u001b[0m \u001b[1;33m\u001b[0m\u001b[0m\n\u001b[0;32m     31\u001b[0m         \u001b[1;31m### Use pd.concat command to Concatenate pandas objects as a Single Table.\u001b[0m\u001b[1;33m\u001b[0m\u001b[1;33m\u001b[0m\u001b[1;33m\u001b[0m\u001b[0m\n\u001b[1;32m---> 32\u001b[1;33m         \u001b[0mconcat_all_sheets_single_file\u001b[0m \u001b[1;33m=\u001b[0m \u001b[0mpd\u001b[0m\u001b[1;33m.\u001b[0m\u001b[0mconcat\u001b[0m\u001b[1;33m(\u001b[0m\u001b[0mdf\u001b[0m\u001b[1;33m,\u001b[0m\u001b[0msort\u001b[0m\u001b[1;33m=\u001b[0m\u001b[1;32mFalse\u001b[0m\u001b[1;33m)\u001b[0m\u001b[1;33m\u001b[0m\u001b[1;33m\u001b[0m\u001b[0m\n\u001b[0m\u001b[0;32m     33\u001b[0m \u001b[1;33m\u001b[0m\u001b[0m\n\u001b[0;32m     34\u001b[0m \u001b[1;33m\u001b[0m\u001b[0m\n",
      "\u001b[1;32m~\\Anaconda3\\lib\\site-packages\\pandas\\core\\reshape\\concat.py\u001b[0m in \u001b[0;36mconcat\u001b[1;34m(objs, axis, join, ignore_index, keys, levels, names, verify_integrity, sort, copy)\u001b[0m\n\u001b[0;32m    279\u001b[0m         \u001b[0mverify_integrity\u001b[0m\u001b[1;33m=\u001b[0m\u001b[0mverify_integrity\u001b[0m\u001b[1;33m,\u001b[0m\u001b[1;33m\u001b[0m\u001b[1;33m\u001b[0m\u001b[0m\n\u001b[0;32m    280\u001b[0m         \u001b[0mcopy\u001b[0m\u001b[1;33m=\u001b[0m\u001b[0mcopy\u001b[0m\u001b[1;33m,\u001b[0m\u001b[1;33m\u001b[0m\u001b[1;33m\u001b[0m\u001b[0m\n\u001b[1;32m--> 281\u001b[1;33m         \u001b[0msort\u001b[0m\u001b[1;33m=\u001b[0m\u001b[0msort\u001b[0m\u001b[1;33m,\u001b[0m\u001b[1;33m\u001b[0m\u001b[1;33m\u001b[0m\u001b[0m\n\u001b[0m\u001b[0;32m    282\u001b[0m     )\n\u001b[0;32m    283\u001b[0m \u001b[1;33m\u001b[0m\u001b[0m\n",
      "\u001b[1;32m~\\Anaconda3\\lib\\site-packages\\pandas\\core\\reshape\\concat.py\u001b[0m in \u001b[0;36m__init__\u001b[1;34m(self, objs, axis, join, keys, levels, names, ignore_index, verify_integrity, copy, sort)\u001b[0m\n\u001b[0;32m    307\u001b[0m                 \u001b[1;34m\"first argument must be an iterable of pandas \"\u001b[0m\u001b[1;33m\u001b[0m\u001b[1;33m\u001b[0m\u001b[0m\n\u001b[0;32m    308\u001b[0m                 \u001b[1;34m\"objects, you passed an object of type \"\u001b[0m\u001b[1;33m\u001b[0m\u001b[1;33m\u001b[0m\u001b[0m\n\u001b[1;32m--> 309\u001b[1;33m                 \u001b[1;34m'\"{name}\"'\u001b[0m\u001b[1;33m.\u001b[0m\u001b[0mformat\u001b[0m\u001b[1;33m(\u001b[0m\u001b[0mname\u001b[0m\u001b[1;33m=\u001b[0m\u001b[0mtype\u001b[0m\u001b[1;33m(\u001b[0m\u001b[0mobjs\u001b[0m\u001b[1;33m)\u001b[0m\u001b[1;33m.\u001b[0m\u001b[0m__name__\u001b[0m\u001b[1;33m)\u001b[0m\u001b[1;33m\u001b[0m\u001b[1;33m\u001b[0m\u001b[0m\n\u001b[0m\u001b[0;32m    310\u001b[0m             )\n\u001b[0;32m    311\u001b[0m \u001b[1;33m\u001b[0m\u001b[0m\n",
      "\u001b[1;31mTypeError\u001b[0m: first argument must be an iterable of pandas objects, you passed an object of type \"DataFrame\""
     ]
    }
   ],
   "source": [
    "#import numpy as np\n",
    "import pandas as pd\n",
    "import glob\n",
    "\n",
    "#### Combine, concatenate, join multiple excel files in a given folder into one dataframe, Each excel files having multiple sheets \n",
    "#### All sheets in a single Excel file are first combined into a dataframe, then all the Excel Books in the folder\n",
    "#### Are combined to make a single data frame. The combined data frame is the exported into a single Excel sheet.\n",
    "\n",
    "\n",
    "#path = r'C:\\Users\\Tchamna\\Downloads\\UTRC_DATA\\495GowanusSpeedData20152016'\n",
    "path = r'C:\\Users\\Geo\\Jupyter\\load_data\\files'\n",
    "\n",
    "filenames = glob.glob(path + \"/*.xls\")\n",
    "print(filenames)\n",
    "\n",
    "### Dataframe Initialization\n",
    "concat_all_sheets_all_files = pd.DataFrame()\n",
    "\n",
    "\n",
    "for file in filenames:\n",
    "    \n",
    "        ### Get all the sheets in a single Excel File using  pd.read_excel command, with sheet_name=None\n",
    "        ### Note that the result is given as an Ordered Dictionary File\n",
    "        ### Hell can be found here: https://pandas.pydata.org/pandas-docs...\n",
    "        \n",
    "        df = pd.read_excel(file, sheet_name='tbl_ocorrencias', skiprows=None,nrows=None,usecols=None,header = 0,index_col=None)\n",
    "        #df = pd.read_excel(file, sheet_name=None, skiprows=0,nrows=34,usecols=105,header = 9,index_col=None)\n",
    "\n",
    "        #print(df)\n",
    "\n",
    "        ### Use pd.concat command to Concatenate pandas objects as a Single Table.\n",
    "        concat_all_sheets_single_file = pd.concat(df,sort=False)\n",
    "        \n",
    "       \n",
    "       \n",
    "         ### Use append command to append/stack the previous concatenated data on top of each other \n",
    "        ### as the iteration goes on for every files in the folder\n",
    "        \n",
    "        concat_all_sheets_all_files=concat_all_sheets_all_files.append(concat_all_sheets_single_file)\n",
    "        #print(concat_all_sheets)"
   ]
  },
  {
   "cell_type": "code",
   "execution_count": 3,
   "metadata": {
    "scrolled": true
   },
   "outputs": [
    {
     "name": "stdout",
     "output_type": "stream",
     "text": [
      "somefile.txt\n",
      "Modified\n",
      "1599940973\n",
      "1599940973.3739057\n",
      "1599940973.3739057\n",
      "\n",
      "Created\n",
      "1599941017\n",
      "1599941017.2283118\n",
      "1599941017.2283118\n",
      "\n",
      "Date modified: Sat Sep 12 17:02:53 2020\n",
      "Date modified: 2020-09-12 17:02:53.373906\n",
      "Date modified: 12/09/2020 17:02:53\n",
      "\n",
      "Date created: Sat Sep 12 17:03:37 2020\n",
      "Date created: 2020-09-12 17:03:37.228312\n",
      "Date created: 12/09/2020 17:03:37\n"
     ]
    },
    {
     "data": {
      "text/plain": [
       "1599941017.2283118"
      ]
     },
     "execution_count": 3,
     "metadata": {},
     "output_type": "execute_result"
    }
   ],
   "source": [
    "import os, time, datetime\n",
    "\n",
    "file = \"somefile.txt\"\n",
    "print(file)\n",
    "\n",
    "print(\"Modified\")\n",
    "print(os.stat(file)[-2])\n",
    "print(os.stat(file).st_mtime)\n",
    "print(os.path.getmtime(file))\n",
    "\n",
    "print()\n",
    "\n",
    "print(\"Created\")\n",
    "print(os.stat(file)[-1])\n",
    "print(os.stat(file).st_ctime)\n",
    "print(os.path.getctime(file))\n",
    "\n",
    "print()\n",
    "\n",
    "modified = os.path.getmtime(file)\n",
    "print(\"Date modified: \"+time.ctime(modified))\n",
    "print(\"Date modified:\",datetime.datetime.fromtimestamp(modified))\n",
    "year,month,day,hour,minute,second=time.localtime(modified)[:-3]\n",
    "print(\"Date modified: %02d/%02d/%d %02d:%02d:%02d\"%(day,month,year,hour,minute,second))\n",
    "\n",
    "print()\n",
    "\n",
    "created = os.path.getctime(file)\n",
    "print(\"Date created: \"+time.ctime(created))\n",
    "print(\"Date created:\",datetime.datetime.fromtimestamp(created))\n",
    "year,month,day,hour,minute,second=time.localtime(created)[:-3]\n",
    "print(\"Date created: %02d/%02d/%d %02d:%02d:%02d\"%(day,month,year,hour,minute,second))\n",
    "\n",
    "created"
   ]
  },
  {
   "cell_type": "code",
   "execution_count": 6,
   "metadata": {},
   "outputs": [
    {
     "name": "stdout",
     "output_type": "stream",
     "text": [
      "09/12/2020 05:02:53 PM\n"
     ]
    }
   ],
   "source": [
    "import time\n",
    "print(time.strftime(\"%m/%d/%Y %I:%M:%S %p\",time.localtime(os.path.getmtime(file))))"
   ]
  }
 ],
 "metadata": {
  "kernelspec": {
   "display_name": "Python 3",
   "language": "python",
   "name": "python3"
  },
  "language_info": {
   "codemirror_mode": {
    "name": "ipython",
    "version": 3
   },
   "file_extension": ".py",
   "mimetype": "text/x-python",
   "name": "python",
   "nbconvert_exporter": "python",
   "pygments_lexer": "ipython3",
   "version": "3.7.6"
  }
 },
 "nbformat": 4,
 "nbformat_minor": 4
}
