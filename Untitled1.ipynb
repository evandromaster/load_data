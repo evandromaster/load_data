{
 "cells": [
  {
   "cell_type": "code",
   "execution_count": 3,
   "metadata": {},
   "outputs": [
    {
     "name": "stdout",
     "output_type": "stream",
     "text": [
      "peca otimo pessimo nao e tao as\n"
     ]
    }
   ],
   "source": [
    "#!pip install unidecode\n",
    "import unidecode\n",
    "#import unicodedata\n",
    "\n",
    "# texto original\n",
    "original = \"peça ótimo péssimo não é tão às\"\n",
    "\n",
    "# com unidecode\n",
    "processamento_1 = unidecode.unidecode(original)\n",
    "print(processamento_1) # peca otimo pessimo nao e tao as"
   ]
  }
 ],
 "metadata": {
  "kernelspec": {
   "display_name": "Python 3",
   "language": "python",
   "name": "python3"
  },
  "language_info": {
   "codemirror_mode": {
    "name": "ipython",
    "version": 3
   },
   "file_extension": ".py",
   "mimetype": "text/x-python",
   "name": "python",
   "nbconvert_exporter": "python",
   "pygments_lexer": "ipython3",
   "version": "3.7.6"
  }
 },
 "nbformat": 4,
 "nbformat_minor": 4
}
